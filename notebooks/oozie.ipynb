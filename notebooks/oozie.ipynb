{
 "cells": [
  {
   "cell_type": "markdown",
   "metadata": {},
   "source": [
    "**Warning:** Remember that for interacting with EDI Big Data Stack you must be authenticated at the system using kinit command. For more information, read the documentation at [Authenticating with Kerberos](https://docs.edincubator.eu/big-data-stack/basic-concepts.html#authenticating-with-kerberos)."
   ]
  },
  {
   "cell_type": "code",
   "execution_count": null,
   "metadata": {},
   "outputs": [],
   "source": [
    "kinit -kt ~/work/$JUPYTERHUB_USER.service.keytab $JUPYTERHUB_USER@EDINCUBATOR.EU"
   ]
  },
  {
   "cell_type": "markdown",
   "metadata": {},
   "source": [
    "# Oozie\n",
    "\n",
    "[Apache Oozie](http://oozie.apache.org/) is a workflow scheduler for Hadoop. Oozie allow defining worflows, coordinators and bundles:\n",
    "\n",
    "* **Workflow:** It is a sequence of actions. It is written in xml and the actions can be map reduce, hive, pig etc.\n",
    "\n",
    "* **Coordinator:** It is a program that triggers actions (commonly workflow jobs) when a set of conditions are met. Conditions can be a time frequency, other external events etc.\n",
    "\n",
    "* **Bundle:** It is defined as a higher level oozie abstraction that batches a set of coordinator jobs.We can specify the time for bundle job to start as well.\n",
    "\n",
    "In this tutorial we explain how to create an execute an Oozie workflow. This workflow will launch the Pig job presented at [Pig](https://docs.edincubator.eu/big-data-stack/tools/pig.html#pig) and read generated results by a Spark job.\n",
    "\n",
    "**Note**: You can design and run Oozie jobs easily using [Workflow Manager View](https://docs.edincubator.eu/big-data-stack/tools/views.html#workflow)."
   ]
  },
  {
   "cell_type": "markdown",
   "metadata": {},
   "source": [
    "## Oozie Workflow\n",
    "\n",
    "Oozie workflows, coordinators and bundles are defined in XML files. You can find the following example at `stack-examples/oozieexmaple/workflow.xml` file at stack-examples repository:"
   ]
  },
  {
   "cell_type": "code",
   "execution_count": null,
   "metadata": {},
   "outputs": [],
   "source": [
    "cd ~/work/examples/oozieexample/"
   ]
  },
  {
   "cell_type": "markdown",
   "metadata": {},
   "source": [
    "This workflow defines three actions:\n",
    "\n",
    "* The first action defines a file system action (fs) for clearing the output paths and avoid future errors.\n",
    "\n",
    "* The second one defines the Pig script for aggregating data (*stack-examples/pigexample/yelp_business.pig*).\n",
    "\n",
    "* The third one defines the Spark job for filtering data (*stack-examples/oozieexample/spark.py*).\n",
    "\n",
    "### File System action\n",
    "\n",
    "This action clears paths used by other tasks as output to avoid errors.\n",
    "\n",
    "```xml\n",
    "<action name=\"fs_1\">\n",
    "  <fs>\n",
    "    <name-node>${nameNode}</name-node>\n",
    "    <delete path=\"/user/${user}/${examplesRoot}/pig-output\"></delete>\n",
    "    <delete path=\"/user/${user}/${examplesRoot}/spark-oozie-output\"></delete>\n",
    "  </fs>\n",
    "  <ok to=\"pig_1\"/>\n",
    "  <error to=\"pig_1\"/>\n",
    "</action>\n",
    "```\n",
    "\n",
    "As can be seen, every action has certain XML nodes and attributes:\n",
    "\n",
    "* **action:** represents the action to be defined. It has to be named using name attribute.\n",
    "* **type:** the type of action, in this case fs.\n",
    "* **ok and error:** they represent the flow in case of a successful or a failed result.\n",
    "\n",
    "In addition to those properties and the ones owned by the specific action, if the action needs to interact with other components like HDFS Namenode or YARN Jobtracker, they must be defined too.\n",
    "\n",
    "### Pig action\n",
    "\n",
    "This action executes a Pig script.\n",
    "\n",
    "```xml\n",
    "<action name=\"pig_1\">\n",
    "  <pig>\n",
    "    <job-tracker>${jobTracker}</job-tracker>\n",
    "    <name-node>${nameNode}</name-node>\n",
    "    <script>/user/${user}/${examplesRoot}/yelp_business.pig</script>\n",
    "    <argument>-param</argument>\n",
    "    <argument>output_dir=/user/${user}/${examplesRoot}/pig-output</argument>\n",
    "  </pig>\n",
    "  <ok to=\"spark_1\"/>\n",
    "  <error to=\"kill\"/>\n",
    "</action>\n",
    "```\n",
    "\n",
    "### Spark action\n",
    "\n",
    "This action executes a Spark script.\n",
    "\n",
    "```xml\n",
    "<action name=\"spark_1\">\n",
    "  <spark\n",
    "    xmlns=\"uri:oozie:spark-action:0.2\">\n",
    "    <job-tracker>${jobTracker}</job-tracker>\n",
    "    <name-node>${nameNode}</name-node>\n",
    "    <master>yarn-cluster</master>\n",
    "    <name>${user}SparkOozieTest</name>\n",
    "    <jar>${nameNode}/user/${user}/${examplesRoot}/spark.py</jar>\n",
    "    <arg>--app_name=${user}SparkOozieExample</arg>\n",
    "    <arg>--username=${user}</arg>\n",
    "    <arg>--example_dir=${examplesRoot}</arg>\n",
    "  </spark>\n",
    "  <ok to=\"end\"/>\n",
    "  <error to=\"kill\"/>\n",
    "</action>\n",
    "```\n",
    "\n",
    "In addition to the action, you must declare the following global configuration atributes.\n",
    "\n",
    "```xml\n",
    "<global>\n",
    "  <configuration>\n",
    "    <property>\n",
    "      <name>oozie.use.system.libpath</name>\n",
    "      <value>true</value>\n",
    "    </property>\n",
    "    <property>\n",
    "      <name>oozie.action.sharelib.for.spark</name>\n",
    "      <value>spark2</value>\n",
    "    </property>\n",
    "  </configuration>\n",
    "</global>\n",
    "```\n",
    "\n",
    "## Oozie Job Properties\n",
    "\n",
    "In addition to the *workflow.xml* file, the job.properties file declares the parameters and variables used by the Oozie job:\n",
    "\n",
    "```data\n",
    "nameNode=hdfs://master.edincubator.eu:8020\n",
    "jobTracker=master.edincubator.eu:8050\n",
    "master=yarn-cluster\n",
    "examplesRoot=oozie-example\n",
    "user=<username>\n",
    "oozie.use.system.libpath=true\n",
    "oozie.wf.application.path=${nameNode}/user/${user.name}/${examplesRoot}/\n",
    "```\n",
    "\n",
    "## Executing the workflow\n",
    "\n",
    "For executing the workflow, you must follow those steps:"
   ]
  },
  {
   "cell_type": "code",
   "execution_count": null,
   "metadata": {},
   "outputs": [],
   "source": [
    "cd ~/work/examples/oozieexample\n",
    "hdfs dfs -mkdir /user/$USERNAME/oozie-example\n",
    "hdfs dfs -put workflow.xml /user/$USERNAME/oozie-example\n",
    "hdfs dfs -put ../pigexample/yelp_business.pig /user/$USERNAME/oozie-example\n",
    "hdfs dfs -put ../pigexample/yelp_business.pig /user/$USERNAME/oozie-example\n",
    "oozie job -oozie http://master.edincubator.eu:11000/oozie -config job.properties -run"
   ]
  },
  {
   "cell_type": "markdown",
   "metadata": {},
   "source": [
    "You can check the status of the job using *oozie jobs* command:"
   ]
  },
  {
   "cell_type": "code",
   "execution_count": null,
   "metadata": {},
   "outputs": [],
   "source": [
    "oozie jobs -oozie http://master.edincubator.eu:11000/oozie"
   ]
  },
  {
   "cell_type": "markdown",
   "metadata": {},
   "source": [
    "You can check logs from a job using *oozie job -log* command"
   ]
  },
  {
   "cell_type": "code",
   "execution_count": null,
   "metadata": {},
   "outputs": [],
   "source": [
    "oozie job -oozie http://master.edincubator.eu:11000/oozie -log <oozie_job_id>"
   ]
  },
  {
   "cell_type": "markdown",
   "metadata": {},
   "source": [
    "When Oozie job finishes, you can check its results at `/user/<username>/oozie-example/spark-oozie-output`."
   ]
  }
 ],
 "metadata": {
  "kernelspec": {
   "display_name": "Calysto Bash",
   "language": "bash",
   "name": "calysto_bash"
  },
  "language_info": {
   "file_extension": ".sh",
   "help_links": [
    {
     "text": "MetaKernel Magics",
     "url": "https://metakernel.readthedocs.io/en/latest/source/README.html"
    }
   ],
   "mimetype": "text/x-sh",
   "name": "bash",
   "version": "0.2.2"
  }
 },
 "nbformat": 4,
 "nbformat_minor": 4
}
